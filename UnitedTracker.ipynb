{
 "cells": [
  {
   "cell_type": "code",
   "execution_count": 13,
   "metadata": {},
   "outputs": [],
   "source": [
    "from selenium import webdriver\n",
    "from selenium.webdriver.common.keys import Keys\n",
    "import os\n",
    "from bs4 import BeautifulSoup\n",
    "import time\n",
    "import numpy as np"
   ]
  },
  {
   "cell_type": "code",
   "execution_count": 2,
   "metadata": {},
   "outputs": [],
   "source": [
    "from selenium.webdriver.common.action_chains import ActionChains"
   ]
  },
  {
   "cell_type": "code",
   "execution_count": 14,
   "metadata": {},
   "outputs": [],
   "source": [
    "def send_keys_delay_random(controller,keys,min_delay=0.05,max_delay=0.25):\n",
    "    for key in keys:\n",
    "        controller.send_keys(key)\n",
    "        time.sleep(np.random.uniform(low=min_delay,high=max_delay))"
   ]
  },
  {
   "cell_type": "code",
   "execution_count": 4,
   "metadata": {},
   "outputs": [],
   "source": [
    "driver = webdriver.Safari()\n",
    "driver.delete_all_cookies()"
   ]
  },
  {
   "cell_type": "code",
   "execution_count": 5,
   "metadata": {},
   "outputs": [],
   "source": [
    "url = \"https://www.united.com/en/us\"\n",
    "driver.get(url)\n",
    "time.sleep(10)"
   ]
  },
  {
   "cell_type": "code",
   "execution_count": 6,
   "metadata": {},
   "outputs": [],
   "source": [
    "bookFlightTab = driver.find_element_by_id(\"bookFlightTab\")\n",
    "hoverBookFlightTab = ActionChains(driver).move_to_element(bookFlightTab)\n",
    "hoverBookFlightTab.click()\n",
    "time.sleep(1)"
   ]
  },
  {
   "cell_type": "code",
   "execution_count": 7,
   "metadata": {},
   "outputs": [],
   "source": [
    "oneWayRadioButton = driver.find_element_by_id(\"oneway\")\n",
    "hoverOneWayRadioButton = ActionChains(driver).move_to_element(oneWayRadioButton)\n",
    "hoverOneWayRadioButton.click()\n",
    "time.sleep(0.5)"
   ]
  },
  {
   "cell_type": "code",
   "execution_count": 19,
   "metadata": {},
   "outputs": [],
   "source": [
    "driver.find_element_by_xpath('//*[@id=\"bookFlightOriginInput\"]').clear()\n",
    "time.sleep(2)\n",
    "bookFlightOriginInput = driver.find_element_by_xpath('//*[@id=\"bookFlightOriginInput\"]')\n",
    "hoverBookFlightOriginInput = ActionChains(driver).move_to_element(bookFlightOriginInput)\n",
    "hoverBookFlightOriginInput.click()\n",
    "time.sleep(0.5)\n",
    "send_keys_delay_random(bookFlightOriginInput, 'A')\n",
    "for i in range(30):\n",
    "    time.sleep(np.random.uniform(low=0.02, high=0.25))\n",
    "    bookFlightOriginInput.send_keys(Keys.DELETE)\n",
    "send_keys_delay_random(bookFlightOriginInput, 'SFO')\n",
    "# bookFlightOriginInput.send_keys(\"SFO\")"
   ]
  },
  {
   "cell_type": "code",
   "execution_count": null,
   "metadata": {},
   "outputs": [],
   "source": []
  }
 ],
 "metadata": {
  "kernelspec": {
   "display_name": "Python 3",
   "language": "python",
   "name": "python3"
  },
  "language_info": {
   "codemirror_mode": {
    "name": "ipython",
    "version": 3
   },
   "file_extension": ".py",
   "mimetype": "text/x-python",
   "name": "python",
   "nbconvert_exporter": "python",
   "pygments_lexer": "ipython3",
   "version": "3.7.6"
  }
 },
 "nbformat": 4,
 "nbformat_minor": 4
}
