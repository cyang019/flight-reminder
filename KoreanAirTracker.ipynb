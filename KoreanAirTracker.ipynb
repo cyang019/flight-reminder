{
 "cells": [
  {
   "cell_type": "code",
   "execution_count": 1,
   "metadata": {},
   "outputs": [],
   "source": [
    "from selenium import webdriver\n",
    "from selenium.webdriver.common.keys import Keys\n",
    "import os\n",
    "import sys\n",
    "from bs4 import BeautifulSoup\n",
    "import time\n",
    "import numpy as np"
   ]
  },
  {
   "cell_type": "code",
   "execution_count": 2,
   "metadata": {},
   "outputs": [],
   "source": [
    "from selenium.webdriver.common.action_chains import ActionChains"
   ]
  },
  {
   "cell_type": "code",
   "execution_count": 3,
   "metadata": {},
   "outputs": [],
   "source": [
    "def send_keys_delay_random(controller,keys,min_delay=0.05,max_delay=0.25):\n",
    "    for key in keys:\n",
    "        controller.send_keys(key)\n",
    "        time.sleep(np.random.uniform(low=min_delay,high=max_delay))"
   ]
  },
  {
   "cell_type": "code",
   "execution_count": 4,
   "metadata": {},
   "outputs": [
    {
     "name": "stdout",
     "output_type": "stream",
     "text": [
      "/Users/cyang/coding/projects/flight-reminder/venv/bin:/usr/local/opt/python/libexec/bin:/Users/cyang/.rvm/gems/ruby-2.2.5/bin:/Users/cyang/.rvm/gems/ruby-2.2.5@global/bin:/Users/cyang/.rvm/rubies/ruby-2.2.5/bin:/usr/local/bin:/usr/local/bin:/usr/bin:/bin:/usr/sbin:/sbin:/Library/TeX/texbin:/opt/X11/bin:/Users/cyang/.rvm/bin\r\n"
     ]
    }
   ],
   "source": [
    "!echo $PATH"
   ]
  },
  {
   "cell_type": "code",
   "execution_count": 5,
   "metadata": {},
   "outputs": [],
   "source": [
    "driver = webdriver.Chrome()\n",
    "driver.delete_all_cookies()"
   ]
  },
  {
   "cell_type": "code",
   "execution_count": 6,
   "metadata": {},
   "outputs": [],
   "source": [
    "driver.set_window_size(1024, 600)"
   ]
  },
  {
   "cell_type": "code",
   "execution_count": 7,
   "metadata": {},
   "outputs": [],
   "source": [
    "url = \"https://www.koreanair.com/global/en.html\"\n",
    "driver.get(url)\n",
    "time.sleep(20)"
   ]
  },
  {
   "cell_type": "code",
   "execution_count": 8,
   "metadata": {},
   "outputs": [],
   "source": [
    "bookFlightRadioBtn = driver.find_element_by_xpath('//*[@id=\"oneway\"]')\n",
    "# bookFlightRadioButton = driver.find_element_by_xpath('//*[@id=\"from-to-chooser\"]/div[1]/ul/li[1]/label')\n",
    "bookFlightRadioBtn.click()\n",
    "time.sleep(1)\n",
    "\n",
    "fromInput = driver.find_element_by_xpath('//*[@id=\"from-to-chooser\"]/div[2]/ul/li/div/div/div/input')\n",
    "fromInput.clear()\n",
    "time.sleep(0.7)\n",
    "send_keys_delay_random(fromInput, 'Seoul/Incheon(ICN)')\n",
    "\n",
    "toInput = driver.find_element_by_xpath('//*[@id=\"from-to-chooser\"]/div[2]/ul/li[2]/div/div/div/input')\n",
    "toInput.clear()\n",
    "time.sleep(0.3)\n",
    "send_keys_delay_random(toInput, 'Shenyang(SHE)')\n",
    "\n",
    "dateInput = driver.find_element_by_xpath('//*[@id=\"from-to-chooser\"]/div[2]/ul/li[3]/div/input')\n",
    "dateInput.clear()\n",
    "time.sleep(0.9)\n",
    "send_keys_delay_random(dateInput, '2020-08-20')\n",
    "\n",
    "time.sleep(1.2)\n",
    "findFlightsBtn = driver.find_element_by_xpath('//*[@id=\"submit\"]')\n",
    "findFlightsBtn.click()\n",
    "\n",
    "time.sleep(2.11)\n",
    "# airMessageCheckBox = driver.find_element_by_xpath('//*[@id=\"airpmessage-checkbox\"]')\n",
    "# airMessageCheckBox.click()\n",
    "# time.sleep(0.521)\n",
    "airMessageConfirmBtn = driver.find_element_by_xpath('//*[@id=\"btnModalPopupYes\"]')\n",
    "airMessageConfirmBtn.click()"
   ]
  },
  {
   "cell_type": "code",
   "execution_count": null,
   "metadata": {},
   "outputs": [],
   "source": []
  }
 ],
 "metadata": {
  "kernelspec": {
   "display_name": "Python 3",
   "language": "python",
   "name": "python3"
  },
  "language_info": {
   "codemirror_mode": {
    "name": "ipython",
    "version": 3
   },
   "file_extension": ".py",
   "mimetype": "text/x-python",
   "name": "python",
   "nbconvert_exporter": "python",
   "pygments_lexer": "ipython3",
   "version": "3.7.6"
  }
 },
 "nbformat": 4,
 "nbformat_minor": 4
}
