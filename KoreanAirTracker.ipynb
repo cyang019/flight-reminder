{
 "cells": [
  {
   "cell_type": "code",
   "execution_count": 1,
   "metadata": {},
   "outputs": [],
   "source": [
    "from selenium import webdriver\n",
    "from selenium.webdriver.common.keys import Keys\n",
    "from selenium.webdriver.common.action_chains import ActionChains\n",
    "from selenium.webdriver.support import expected_conditions as EC\n",
    "from selenium.common.exceptions import NoSuchElementException\n",
    "import os\n",
    "import sys\n",
    "from bs4 import BeautifulSoup\n",
    "import time\n",
    "import numpy as np\n",
    "from datetime import datetime\n",
    "import re"
   ]
  },
  {
   "cell_type": "code",
   "execution_count": 2,
   "metadata": {},
   "outputs": [],
   "source": [
    "def send_keys_delay_random(controller,keys,min_delay=0.05,max_delay=0.25):\n",
    "    for key in keys:\n",
    "        controller.send_keys(key)\n",
    "        time.sleep(np.random.uniform(low=min_delay,high=max_delay))"
   ]
  },
  {
   "cell_type": "code",
   "execution_count": 3,
   "metadata": {},
   "outputs": [],
   "source": [
    "def search_korean_air_once(driver, orig, dest, date):\n",
    "    time.sleep(0.4)\n",
    "    cnt = 0\n",
    "    while cnt < 10:\n",
    "        try:\n",
    "            oneWayRadioBtn = driver.find_element_by_xpath('//*[@id=\"oneway\"]')\n",
    "            oneWayRadioBtn.click()\n",
    "        except Exception as e:\n",
    "            time.sleep(np.random.uniform(low=3, high=7))\n",
    "            cnt += 1\n",
    "        else:\n",
    "            break\n",
    "    time.sleep(1)\n",
    "\n",
    "    fromInput = driver.find_element_by_xpath('//*[@id=\"from-to-chooser\"]/div[2]/ul/li/div/div/div/input')\n",
    "    fromInput.clear()\n",
    "    time.sleep(0.7)\n",
    "    send_keys_delay_random(fromInput, orig)\n",
    "\n",
    "    toInput = driver.find_element_by_xpath('//*[@id=\"from-to-chooser\"]/div[2]/ul/li[2]/div/div/div/input')\n",
    "    toInput.clear()\n",
    "    time.sleep(0.3)\n",
    "    send_keys_delay_random(toInput, dest)\n",
    "\n",
    "    dateInput = driver.find_element_by_xpath('//*[@id=\"from-to-chooser\"]/div[2]/ul/li[3]/div/input')\n",
    "    dateInput.clear()\n",
    "    time.sleep(0.9)\n",
    "    send_keys_delay_random(dateInput, date)\n",
    "\n",
    "    time.sleep(1.2)\n",
    "    findFlightsBtn = driver.find_element_by_xpath('//*[@id=\"submit\"]')\n",
    "    findFlightsBtn.click()\n",
    "\n",
    "    time.sleep(2.11)\n",
    "    # airMessageCheckBox = driver.find_element_by_xpath('//*[@id=\"airpmessage-checkbox\"]')\n",
    "    # airMessageCheckBox.click()\n",
    "    # time.sleep(0.521)\n",
    "    airMessageConfirmBtn = driver.find_element_by_xpath('//*[@id=\"btnModalPopupYes\"]')\n",
    "    airMessageConfirmBtn.click()\n",
    "    time.sleep(1.6)\n",
    "    cnt = 0\n",
    "    while cnt < 10:\n",
    "        notFoundMessageBtnExist = driver.find_elements_by_xpath('//*[@id=\"btnModalPopupYes\"]')\n",
    "        if not notFoundMessageBtnExist:\n",
    "            cnt += 1\n",
    "            time.sleep(np.random.uniform(low=2, high=4))\n",
    "        else:\n",
    "            break\n",
    "            \n",
    "    if not notFoundMessageBtnExist:\n",
    "        t = datetime.now().strftime(\"%d-%b-%Y (%H:%M:%S.%f)\")\n",
    "        print(\"[{}] Found flight for {}-{} on {}.\".format(t, orig, dest, date))\n",
    "        return True\n",
    "    else:\n",
    "        notFoundMessageBtn = notFoundMessageBtnExist[0]\n",
    "        notFoundMessageBtn.click()\n",
    "        return False"
   ]
  },
  {
   "cell_type": "code",
   "execution_count": 4,
   "metadata": {},
   "outputs": [],
   "source": [
    "def search_korean_air_second_round(driver, orig, dest, date):\n",
    "    cnt = 0\n",
    "    while cnt < 5:\n",
    "        try:\n",
    "            oneWayRadioBtn = driver.find_element_by_xpath('//*[@id=\"from-to-chooser\"]/div[1]/ul/li/input')\n",
    "        except Exception as e:\n",
    "            time.sleep(np.random.uniform(low=2, high=4))\n",
    "        else:\n",
    "            break\n",
    "    oneWayRadioBtn.click()\n",
    "    \n",
    "    fromInput = driver.find_element_by_xpath('//*[@id=\"boundList\"]/ul/li[1]/div/div/div/input')\n",
    "    fromInput.clear()\n",
    "    time.sleep(0.7)\n",
    "    send_keys_delay_random(fromInput, orig)\n",
    "    time.sleep(1.1)\n",
    "    \n",
    "    toInput = driver.find_element_by_xpath('//*[@id=\"boundList\"]/ul/li[2]/div/div/div/input')\n",
    "    toInput.clear()\n",
    "    time.sleep(0.91)\n",
    "    send_keys_delay_random(toInput, dest)\n",
    "    time.sleep(0.21)\n",
    "    \n",
    "    dateInput = driver.find_element_by_xpath('//*[@id=\"boundList\"]/ul/li[3]/div/input')\n",
    "    dateInput.clear()\n",
    "    time.sleep(0.9)\n",
    "    send_keys_delay_random(dateInput, date)\n",
    "    \n",
    "    time.sleep(0.72)\n",
    "    try:\n",
    "        currencyUSDRadioBtn = driver.find_element_by_xpath('//*[@id=\"currency_USD\"]')\n",
    "        currencyUSDRadioBtn.click()\n",
    "    except Exception as e:\n",
    "        pass\n",
    "    time.sleep(1.5)\n",
    "    submitBtn = driver.find_element_by_xpath('//*[@id=\"submit\"]')\n",
    "    submitBtn.click()\n",
    "    \n",
    "    time.sleep(2.11)\n",
    "    # //*[@id=\"btnModalPopupYes\"]\n",
    "    airMessageConfirmBtn = driver.find_element_by_xpath('//*[@id=\"btnModalPopupYes\"]')\n",
    "    airMessageConfirmBtn.click()\n",
    "    time.sleep(1.6)\n",
    "    cnt = 0\n",
    "    while cnt < 10:\n",
    "        notFoundMessageBtnExist = driver.find_elements_by_xpath('//*[@id=\"btnModalPopupYes\"]')\n",
    "        if not notFoundMessageBtnExist:\n",
    "            cnt += 1\n",
    "            time.sleep(np.random.uniform(low=2, high=4))\n",
    "        else:\n",
    "            break\n",
    "            \n",
    "    if not notFoundMessageBtnExist:\n",
    "        t = datetime.now().strftime(\"%d-%b-%Y (%H:%M:%S.%f)\")\n",
    "        print(\"[{}] Found flight for {}-{} on {}.\".format(t, orig, dest, date))\n",
    "        return True\n",
    "    else:\n",
    "        notFoundMessageBtn = notFoundMessageBtnExist[0]\n",
    "        notFoundMessageBtn.click()\n",
    "        return False"
   ]
  },
  {
   "cell_type": "code",
   "execution_count": 5,
   "metadata": {},
   "outputs": [],
   "source": [
    "def get_flight_info_from_flight_item_html(html_str):\n",
    "    soup = BeautifulSoup(html_str, 'html.parser')\n",
    "    flight_fare_str = soup.find(class_='flight-fare-passenger-type').text.strip()\n",
    "    flight_fare_pattern = r'([a-zA-Z]+) ([0-9\\.,]+)'  # currency value\n",
    "    found = re.search(flight_fare_pattern, flight_fare_str)\n",
    "    flight_fare = found.group(1)\n",
    "    currency = found.group(2)\n",
    "    if 'unavailable' in flight_fare:\n",
    "        return None\n",
    "    print('flight_fare: {}'.format(flight_fare))\n",
    "    flight_summary = soup.find(class_='flight-summary')\n",
    "#     flight_date = flight_summary.find(class_='flight-date').text.strip()\n",
    "#     print('flight_date: {}'.format(flight_date))\n",
    "#     flight_time = flight_summary.find(class_='flight-time').text.strip()\n",
    "#     print('flight_time: {}'.format(flight_time))\n",
    "    flight_total_time = flight_summary.find(class_='flight-total-time').text.strip()\n",
    "    print('flight_total_time: {}'.format(flight_total_time))\n",
    "    flight_stop = flight_summary.find(class_='flight-stop').text.strip()\n",
    "    print('flight_stop: {}'.format(flight_stop))\n",
    "    flight_number = soup.find(class_='flight')['data-flight-number'].strip()\n",
    "    print('flight_number: {}'.format(flight_number))\n",
    "    flight_class_str = soup.find(class_='planeType').text.strip()\n",
    "    flight_class_pattern = r'([0-9a-zA-Z\\-]+)'\n",
    "    found = re.search(flight_class_pattern, flight_class_str)\n",
    "    flight_class = found.group(1)\n",
    "    print('flight_class: {}'.format(flight_class))\n",
    "    flight_route_from, flight_from_time = soup.find(class_='route from').text.strip().split()\n",
    "    flight_route_to, flight_to_time = soup.find(class_='route to').text.strip().split()\n",
    "    print('{} {} -> {} {}'.format(flight_route_from, flight_from_time, flight_route_to, flight_to_time))\n",
    "    result = {\n",
    "        'flight_fare': f'{currency} {flight_fare}',\n",
    "        'flight_duration': flight_total_time,\n",
    "        'flight_stop': flight_stop,\n",
    "        'flight_number': flight_number,\n",
    "        'flight_class': flight_class,\n",
    "        'flight_route_from': flight_route_from,\n",
    "        'flight_route_to': flight_route_to,\n",
    "        'flight_from_time': flight_from_time,\n",
    "        'flight_to_time': flight_to_time,\n",
    "        'timestamp': datetime.now().strftime(\"%d-%b-%Y (%H:%M:%S.%f)\")\n",
    "    }\n",
    "    return result"
   ]
  },
  {
   "cell_type": "code",
   "execution_count": 6,
   "metadata": {},
   "outputs": [],
   "source": [
    "def get_korean_air_flight_info(driver, orig, dest, date):\n",
    "    time.sleep(2.11)\n",
    "    try:\n",
    "        continueBtn = driver.find_element_by_xpath('/html/body/div[3]/div/div/div[2]/button')\n",
    "        continueBtn.click()\n",
    "    except NoSuchElementException as e:\n",
    "        print('No continue button, tries to proceed...')\n",
    "    # cnt = 0\n",
    "    # time.sleep(np.random.uniform(low=2, high=6))\n",
    "    # while cnt < 5:\n",
    "    #     try:\n",
    "    #         header = driver.find_element_by_xpath('//*[@id=\"other-pannel\"]/div[1]')\n",
    "    #     except Exception as e:\n",
    "    #         time.sleep(np.random.uniform(low=2, high=6))\n",
    "    #         cnt += 1\n",
    "    #         print('no table found...')\n",
    "    #     else:\n",
    "    #         break\n",
    "    time.sleep(np.random.uniform(low=2, high=4))\n",
    "    print('flight details page loaded...')\n",
    "    flight_info_list = []\n",
    "    dates_columns = driver.find_elements_by_tag_name('td')\n",
    "    for col in dates_columns:\n",
    "        try:\n",
    "            radioInputBtn = col.find_element_by_tag_name('input')\n",
    "            radioInputBtn.click()\n",
    "            time.sleep(np.random.uniform(low=0.5, high=1.5))\n",
    "\n",
    "            flight_items = driver.find_elements_by_class_name('flightItem')\n",
    "            print('found flight items...')\n",
    "            \n",
    "            for flight_item in flight_items:\n",
    "                temp_html = flight_item.get_attribute('innerHTML')\n",
    "                flight_info = get_flight_info_from_flight_item_html(temp_html)\n",
    "                flight_info['date'] = date\n",
    "                print(flight_info)\n",
    "                if flight_info is not None:\n",
    "                    flight_info_list.append(flight_info)\n",
    "        except NoSuchElementException as e:\n",
    "            print(e)\n",
    "    return flight_info_list"
   ]
  },
  {
   "cell_type": "code",
   "execution_count": 7,
   "metadata": {},
   "outputs": [],
   "source": [
    "def search_korean_air_date_range(orig, dest, dates):\n",
    "    driver = webdriver.Chrome()\n",
    "    driver.delete_all_cookies()\n",
    "    driver.set_window_size(1024, 600)\n",
    "    url = \"https://www.koreanair.com/global/en.html\"\n",
    "    driver.get(url)\n",
    "    time.sleep(20)\n",
    "    results = []\n",
    "    for i, date in enumerate(dates):\n",
    "        params = {\n",
    "            'orig': orig,\n",
    "            'dest': dest,\n",
    "            'date': date\n",
    "        }\n",
    "        if i == 0:\n",
    "            result = search_korean_air_once(driver, **params)\n",
    "        else:\n",
    "            result = search_korean_air_second_round(driver, **params)\n",
    "        if result:\n",
    "            info = get_korean_air_flight_info(driver, **params)\n",
    "            info['date'] = date\n",
    "            if len(info) > 0:\n",
    "                results[date] = info\n",
    "    driver.quit()\n",
    "    return results"
   ]
  },
  {
   "cell_type": "code",
   "execution_count": 8,
   "metadata": {},
   "outputs": [],
   "source": [
    "params = {\n",
    "    'orig': 'Seoul/Incheon(ICN)',\n",
    "    'dest': 'Shenyang(SHE)',\n",
    "    'dates': ['2020-08-21', '2020-11-27']\n",
    "}"
   ]
  },
  {
   "cell_type": "code",
   "execution_count": 10,
   "metadata": {},
   "outputs": [
    {
     "name": "stdout",
     "output_type": "stream",
     "text": [
      "[05-Jul-2020 (21:01:56.353740)] Found flight for Seoul/Incheon(ICN)-Shenyang(SHE) on 2020-11-27.\n",
      "flight_fare: KRW 249,000   Adult\n",
      "flight_total_time: 1h 55m\n",
      "flight_stop: Non-Stop\n",
      "flight_number: KE831\n",
      "flight_class: B777-300  Open new window for the fleet information\n",
      "Seoul/Incheon(ICN) 08:50 -> Shenyang(SHE) 09:45\n",
      "\n",
      "\n",
      "===============\n",
      "Results:\n",
      "----------\n",
      "\n",
      "{'2020-11-27': [{'flight_fare': 'KRW 249,000\\xa0 \\xa0Adult', 'flight_duration': '1h 55m', 'flight_stop': 'Non-Stop', 'flight_number': 'KE831', 'flight_class': 'B777-300\\xa0 Open new window for the fleet information', 'flight_route_from': 'Seoul/Incheon(ICN)', 'flight_route_to': 'Shenyang(SHE)', 'flight_from_time': '08:50', 'flight_to_time': '09:45'}]}\n"
     ]
    }
   ],
   "source": [
    "results = search_korean_air_date_range(**params)\n",
    "print('\\n\\n===============\\nResults:\\n----------\\n')\n",
    "print(results)"
   ]
  },
  {
   "cell_type": "code",
   "execution_count": null,
   "metadata": {},
   "outputs": [],
   "source": []
  },
  {
   "cell_type": "markdown",
   "metadata": {},
   "source": [
    "## Manual Test"
   ]
  },
  {
   "cell_type": "code",
   "execution_count": 9,
   "metadata": {},
   "outputs": [],
   "source": [
    "driver = webdriver.Chrome()\n",
    "driver.delete_all_cookies()\n",
    "driver.set_window_size(1024, 600)\n",
    "url = \"https://www.koreanair.com/global/en.html\"\n",
    "driver.get(url)"
   ]
  },
  {
   "cell_type": "code",
   "execution_count": 12,
   "metadata": {},
   "outputs": [],
   "source": [
    "orig = params['orig']\n",
    "dest = params['dest']\n",
    "date = params['dates'][0]\n",
    "\n",
    "time.sleep(0.4)\n",
    "cnt = 0\n",
    "while cnt < 10:\n",
    "    try:\n",
    "        oneWayRadioBtn = driver.find_element_by_xpath('//*[@id=\"oneway\"]')\n",
    "        oneWayRadioBtn.click()\n",
    "    except Exception as e:\n",
    "        time.sleep(np.random.uniform(low=3, high=7))\n",
    "        cnt += 1\n",
    "    else:\n",
    "        break\n",
    "time.sleep(1)\n",
    "\n",
    "fromInput = driver.find_element_by_xpath('//*[@id=\"from-to-chooser\"]/div[2]/ul/li/div/div/div/input')\n",
    "fromInput.clear()\n",
    "time.sleep(0.7)\n",
    "send_keys_delay_random(fromInput, orig)\n",
    "\n",
    "toInput = driver.find_element_by_xpath('//*[@id=\"from-to-chooser\"]/div[2]/ul/li[2]/div/div/div/input')\n",
    "toInput.clear()\n",
    "time.sleep(0.3)\n",
    "send_keys_delay_random(toInput, dest)\n",
    "\n",
    "dateInput = driver.find_element_by_xpath('//*[@id=\"from-to-chooser\"]/div[2]/ul/li[3]/div/input')\n",
    "dateInput.clear()\n",
    "time.sleep(0.9)\n",
    "send_keys_delay_random(dateInput, date)"
   ]
  },
  {
   "cell_type": "code",
   "execution_count": 14,
   "metadata": {},
   "outputs": [
    {
     "data": {
      "text/plain": [
       "True"
      ]
     },
     "execution_count": 14,
     "metadata": {},
     "output_type": "execute_result"
    }
   ],
   "source": [
    "fromInput = driver.find_element_by_xpath('//*[@id=\"from-to-chooser\"]/div[2]/ul/li/div/div/div/input')\n",
    "fromInput.get_attribute('value') == orig"
   ]
  },
  {
   "cell_type": "code",
   "execution_count": null,
   "metadata": {},
   "outputs": [],
   "source": [
    "# get_flight_info_from_flight_item_html(results['2020-11-27'][1])"
   ]
  },
  {
   "cell_type": "code",
   "execution_count": null,
   "metadata": {},
   "outputs": [],
   "source": [
    "# soup = BeautifulSoup(results['2020-11-27'][1], 'html.parser')\n",
    "# print(soup.prettify())"
   ]
  },
  {
   "cell_type": "code",
   "execution_count": 1,
   "metadata": {},
   "outputs": [],
   "source": [
    "import re\n"
   ]
  },
  {
   "cell_type": "code",
   "execution_count": 5,
   "metadata": {},
   "outputs": [
    {
     "name": "stdout",
     "output_type": "stream",
     "text": [
      "KRW 249,000   Adult\n"
     ]
    }
   ],
   "source": [
    "fare_str = 'KRW 249,000\\xa0 \\xa0Adult'\n",
    "print(fare_str)"
   ]
  },
  {
   "cell_type": "code",
   "execution_count": 8,
   "metadata": {},
   "outputs": [
    {
     "name": "stdout",
     "output_type": "stream",
     "text": [
      "KRW\n",
      "249,000\n"
     ]
    }
   ],
   "source": [
    "pattern = r'([a-zA-Z]+) ([0-9\\.,]+)'\n",
    "found = re.search(pattern, fare_str)\n",
    "print(found.group(1))\n",
    "print(found.group(2))"
   ]
  },
  {
   "cell_type": "code",
   "execution_count": 13,
   "metadata": {},
   "outputs": [
    {
     "name": "stdout",
     "output_type": "stream",
     "text": [
      "B777-300\n"
     ]
    }
   ],
   "source": [
    "flight_class_str = 'B777-300\\xa0 Open new window for the fleet information'\n",
    "found = re.search(r'([0-9a-zA-Z\\-]+)', flight_class_str)\n",
    "print(found.group(1))"
   ]
  },
  {
   "cell_type": "code",
   "execution_count": 3,
   "metadata": {},
   "outputs": [],
   "source": [
    "driver = webdriver.Chrome()\n",
    "driver.delete_all_cookies()\n",
    "driver.set_window_size(1280, 1024)\n",
    "url = \"https://www.koreanair.com/global/en.html\"\n",
    "driver.get(url)"
   ]
  },
  {
   "cell_type": "code",
   "execution_count": 4,
   "metadata": {},
   "outputs": [],
   "source": [
    "params = {\n",
    "    'orig': 'Seoul/Incheon(ICN)',\n",
    "    'dest': 'Shenyang(SHE)',\n",
    "    'date': '2020-10-16'\n",
    "}"
   ]
  },
  {
   "cell_type": "code",
   "execution_count": 11,
   "metadata": {},
   "outputs": [],
   "source": [
    "result = search_korean_air_once(driver, **params)\n",
    "print(result)"
   ]
  },
  {
   "cell_type": "code",
   "execution_count": 12,
   "metadata": {},
   "outputs": [
    {
     "name": "stdout",
     "output_type": "stream",
     "text": [
      "[10-Jul-2020 (16:11:00.168325)] Found flight for Seoul/Incheon(ICN)-Shenyang(SHE) on 2020-10-23.\n",
      "True\n"
     ]
    }
   ],
   "source": [
    "params = {\n",
    "    'orig': 'Seoul/Incheon(ICN)',\n",
    "    'dest': 'Shenyang(SHE)',\n",
    "    'date': '2020-10-23'\n",
    "}\n",
    "result = search_korean_air_second_round(driver, **params)\n",
    "print(result)"
   ]
  },
  {
   "cell_type": "code",
   "execution_count": 13,
   "metadata": {},
   "outputs": [],
   "source": [
    "dates_columns = driver.find_elements_by_tag_name('td')"
   ]
  },
  {
   "cell_type": "code",
   "execution_count": 14,
   "metadata": {},
   "outputs": [
    {
     "data": {
      "text/plain": [
       "8"
      ]
     },
     "execution_count": 14,
     "metadata": {},
     "output_type": "execute_result"
    }
   ],
   "source": [
    "len(dates_columns)"
   ]
  },
  {
   "cell_type": "code",
   "execution_count": 20,
   "metadata": {},
   "outputs": [
    {
     "data": {
      "text/plain": [
       "'Depart Date\\n Lowest fare in date range \\nKRW 303,000'"
      ]
     },
     "execution_count": 20,
     "metadata": {},
     "output_type": "execute_result"
    }
   ],
   "source": [
    "dates_columns[-1].text"
   ]
  },
  {
   "cell_type": "code",
   "execution_count": 22,
   "metadata": {},
   "outputs": [],
   "source": [
    "inputBtn = dates_columns[-1].find_element_by_tag_name('input')"
   ]
  },
  {
   "cell_type": "code",
   "execution_count": 23,
   "metadata": {},
   "outputs": [],
   "source": [
    "inputBtn.click()"
   ]
  },
  {
   "cell_type": "code",
   "execution_count": 25,
   "metadata": {},
   "outputs": [
    {
     "name": "stdout",
     "output_type": "stream",
     "text": [
      "found flight items...\n"
     ]
    }
   ],
   "source": [
    "flight_items = driver.find_elements_by_class_name('flightItem')\n",
    "print('found flight items...')\n",
    "\n",
    "for flight_item in flight_items:\n",
    "    temp_html = flight_item.get_attribute('innerHTML')\n",
    "    flight_info = get_flight_info_from_flight_item_html(temp_html)\n",
    "    flight_info['date'] = date\n",
    "    print(flight_info)\n",
    "    if flight_info is not None:\n",
    "        flight_info_list.append(flight_info)"
   ]
  },
  {
   "cell_type": "code",
   "execution_count": 27,
   "metadata": {},
   "outputs": [
    {
     "data": {
      "text/plain": [
       "[]"
      ]
     },
     "execution_count": 27,
     "metadata": {},
     "output_type": "execute_result"
    }
   ],
   "source": [
    "flight_items"
   ]
  },
  {
   "cell_type": "code",
   "execution_count": null,
   "metadata": {},
   "outputs": [],
   "source": []
  }
 ],
 "metadata": {
  "kernelspec": {
   "display_name": "Python 3",
   "language": "python",
   "name": "python3"
  },
  "language_info": {
   "codemirror_mode": {
    "name": "ipython",
    "version": 3
   },
   "file_extension": ".py",
   "mimetype": "text/x-python",
   "name": "python",
   "nbconvert_exporter": "python",
   "pygments_lexer": "ipython3",
   "version": "3.8.2"
  }
 },
 "nbformat": 4,
 "nbformat_minor": 4
}
